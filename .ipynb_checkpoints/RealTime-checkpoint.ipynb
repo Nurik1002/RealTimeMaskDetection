{
 "cells": [
  {
   "cell_type": "code",
   "execution_count": 2,
   "id": "2c50ecfc-3d52-4810-a714-9d59cb90846b",
   "metadata": {},
   "outputs": [],
   "source": [
    "import tensorflow as tf\n",
    "import numpy as np\n",
    "import cvlib\n",
    "import cv2"
   ]
  },
  {
   "cell_type": "code",
   "execution_count": 5,
   "id": "d9524009-e8e7-411f-b4a0-ebd70d74dbcb",
   "metadata": {
    "tags": []
   },
   "outputs": [],
   "source": [
    "def realtime(path = 0):\n",
    "    \"\"\"path = 'video_path.mp4'\n",
    "       path = 0 open camera\n",
    "    \"\"\"\n",
    "    model = tf.keras.models.load_model(\"model.h5\")\n",
    "    label =  ['WithMask', 'WithoutMask']\n",
    "    video = cv2.VideoCapture(path)\n",
    "    while True:\n",
    "        _, fram = video.read()\n",
    "        \n",
    "        faces = cvlib.detect_face(fram)\n",
    "        \n",
    "        for x1,y1,x2,y2 in faces[0]:\n",
    "\n",
    "            face = fram[y1-10:y2+10, x1-10:x2+10] \n",
    "            face = cv2.cvtColor(face, cv2.COLOR_BGR2RGB)        \n",
    "            face = cv2.resize(face, (224,224))\n",
    "            face = np.expand_dims(face, 0)   \n",
    "\n",
    "            pred, value = np.argmax(model.predict(face)), model.predict(face)\n",
    "    \n",
    "            if pred == 0:\n",
    "                cv2.rectangle(fram, (x1,y1), (x2,y2), (0,255,0),2)\n",
    "                cv2.putText(fram, f\"{label[pred].upper()} : {value[0][1]}\" , (x1,y1), cv2.FONT_HERSHEY_SIMPLEX, 1, (0,255,0),2)\n",
    "\n",
    "            else:                \n",
    "                cv2.rectangle(fram, (x1,y1), (x2,y2), (0,0,255),2)\n",
    "                cv2.putText(fram,  f\"{label[pred].upper()} : {value[0][0]}\", (x1,y1), cv2.FONT_HERSHEY_SIMPLEX, 1, (0,0,255),2)\n",
    "\n",
    "        \n",
    "        cv2.imshow(\"Frame\", fram)\n",
    "        if cv2.waitKey(40) & 0xFF == ord('q'):\n",
    "            break\n",
    "    video.release()\n",
    "    cv2.destroyAllWindows()\n",
    "    "
   ]
  },
  {
   "cell_type": "code",
   "execution_count": null,
   "id": "bdbddebe-0787-4b58-8507-40a18b118066",
   "metadata": {
    "tags": []
   },
   "outputs": [],
   "source": [
    "realtime()"
   ]
  }
 ],
 "metadata": {
  "kernelspec": {
   "display_name": "md_env",
   "language": "python",
   "name": "md_env"
  },
  "language_info": {
   "codemirror_mode": {
    "name": "ipython",
    "version": 3
   },
   "file_extension": ".py",
   "mimetype": "text/x-python",
   "name": "python",
   "nbconvert_exporter": "python",
   "pygments_lexer": "ipython3",
   "version": "3.11.2"
  }
 },
 "nbformat": 4,
 "nbformat_minor": 5
}
